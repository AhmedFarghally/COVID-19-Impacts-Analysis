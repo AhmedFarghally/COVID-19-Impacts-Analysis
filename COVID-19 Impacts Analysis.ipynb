{
 "cells": [
  {
   "cell_type": "markdown",
   "id": "0680e95e",
   "metadata": {
    "papermill": {
     "duration": 0.01404,
     "end_time": "2022-09-10T12:37:25.149545",
     "exception": false,
     "start_time": "2022-09-10T12:37:25.135505",
     "status": "completed"
    },
    "tags": []
   },
   "source": [
    "# Project: Investigate Database_Covid-19\n",
    "\n",
    "## Table of Contents\n",
    "<ul>\n",
    "<li><a href=\"#intro\">Introduction</a></li>\n",
    "<li><a href=\"#wrangling\">Data Wrangling</a></li>\n",
    "<li><a href=\"#eda\">Exploratory Data Analysis</a></li>\n",
    "<li><a href=\"#conclusions\">Conclusions</a></li>\n",
    "</ul>"
   ]
  },
  {
   "cell_type": "markdown",
   "id": "f12de73c",
   "metadata": {
    "papermill": {
     "duration": 0.010114,
     "end_time": "2022-09-10T12:37:25.168954",
     "exception": false,
     "start_time": "2022-09-10T12:37:25.158840",
     "status": "completed"
    },
    "tags": []
   },
   "source": [
    "<a id='intro'></a>\n",
    "## Introduction\n",
    "\n",
    "### Dataset Description \n",
    "\n",
    "The first wave of covid-19 impacted the global economy as the world was never ready for this disaster. It coused rising in cases, rising in deaths, rising in unemployment and rising in poverty, and affect the econemy very negatively. So I would analysis this data set by asking some importnant question about the effect of Covis-19 on the world and get answers.The data used contains the data on covid-19 from December 31, 2019, to October 10, 2020.\n",
    "\n",
    "The dataset used to analyze the impacts of covid-19 is downloaded from Kaggle. It contains data about:\n",
    "\n",
    "The country code\n",
    "\n",
    "Name of all the countries\n",
    "\n",
    "Date of the record\n",
    "\n",
    "Human development index of all the countries\n",
    "\n",
    "Daily covid-19 cases\n",
    "\n",
    "Daily deaths due to covid-19\n",
    "\n",
    "Stringency index of the countries\n",
    "\n",
    "The population of the countries\n",
    "\n",
    "GDP per capita of the countries\n",
    "\n",
    "\n",
    "### Question(s) for Analysis\n",
    "\n",
    "Which countries did perfom well in the stringency index during the outbreak of covid-19 ?\n",
    "\n",
    "What the effect of the Covid_19 on economy ?\n",
    "\n",
    "Which countries had the highest number of death at that period ? \n",
    "\n",
    "Which countries had the highest number of total cases at that period ? \n",
    "\n",
    "Which countries had the highest population ? \n",
    "\n"
   ]
  },
  {
   "cell_type": "code",
   "execution_count": 1,
   "id": "aed56c82",
   "metadata": {
    "execution": {
     "iopub.execute_input": "2022-09-10T12:37:25.190707Z",
     "iopub.status.busy": "2022-09-10T12:37:25.190060Z",
     "iopub.status.idle": "2022-09-10T12:37:27.458062Z",
     "shell.execute_reply": "2022-09-10T12:37:27.456986Z"
    },
    "papermill": {
     "duration": 2.282411,
     "end_time": "2022-09-10T12:37:27.460837",
     "exception": false,
     "start_time": "2022-09-10T12:37:25.178426",
     "status": "completed"
    },
    "tags": []
   },
   "outputs": [],
   "source": [
    "# imporing Libraries\n",
    "\n",
    "import numpy as np \n",
    "import pandas as pd\n",
    "from   datetime import datetime \n",
    "import plotly.express as px\n",
    "import seaborn as sns\n",
    "import matplotlib.pyplot as plt\n",
    "%matplotlib inline"
   ]
  },
  {
   "cell_type": "markdown",
   "id": "84744392",
   "metadata": {
    "papermill": {
     "duration": 0.008342,
     "end_time": "2022-09-10T12:37:27.477822",
     "exception": false,
     "start_time": "2022-09-10T12:37:27.469480",
     "status": "completed"
    },
    "tags": []
   },
   "source": [
    "<a id='wrangling'></a>\n",
    "## Data Wrangling\n",
    "\n",
    "In this section of the report, we will load in the data, check for cleanliness, and then trim and clean your dataset for analysis. "
   ]
  },
  {
   "cell_type": "code",
   "execution_count": 2,
   "id": "ba3d761f",
   "metadata": {
    "execution": {
     "iopub.execute_input": "2022-09-10T12:37:27.496986Z",
     "iopub.status.busy": "2022-09-10T12:37:27.496211Z",
     "iopub.status.idle": "2022-09-10T12:37:27.678356Z",
     "shell.execute_reply": "2022-09-10T12:37:27.677495Z"
    },
    "papermill": {
     "duration": 0.194646,
     "end_time": "2022-09-10T12:37:27.681032",
     "exception": false,
     "start_time": "2022-09-10T12:37:27.486386",
     "status": "completed"
    },
    "tags": []
   },
   "outputs": [],
   "source": [
    "df = pd.read_csv(\"../input/covid-19-dataset/COVID19.csv\")"
   ]
  },
  {
   "cell_type": "markdown",
   "id": "754a17fd",
   "metadata": {
    "papermill": {
     "duration": 0.008464,
     "end_time": "2022-09-10T12:37:27.698325",
     "exception": false,
     "start_time": "2022-09-10T12:37:27.689861",
     "status": "completed"
    },
    "tags": []
   },
   "source": [
    "### Data Cleaning \n",
    "\n",
    "Let's check if our datasets contain \"null\" values or not?, and if the datasets contain \"null\" values we will process these \"null\" values to get a clean datasets"
   ]
  },
  {
   "cell_type": "code",
   "execution_count": 3,
   "id": "39bf03eb",
   "metadata": {
    "execution": {
     "iopub.execute_input": "2022-09-10T12:37:27.717810Z",
     "iopub.status.busy": "2022-09-10T12:37:27.717387Z",
     "iopub.status.idle": "2022-09-10T12:37:27.744623Z",
     "shell.execute_reply": "2022-09-10T12:37:27.743466Z"
    },
    "papermill": {
     "duration": 0.040169,
     "end_time": "2022-09-10T12:37:27.747696",
     "exception": false,
     "start_time": "2022-09-10T12:37:27.707527",
     "status": "completed"
    },
    "tags": []
   },
   "outputs": [
    {
     "data": {
      "text/html": [
       "<div>\n",
       "<style scoped>\n",
       "    .dataframe tbody tr th:only-of-type {\n",
       "        vertical-align: middle;\n",
       "    }\n",
       "\n",
       "    .dataframe tbody tr th {\n",
       "        vertical-align: top;\n",
       "    }\n",
       "\n",
       "    .dataframe thead th {\n",
       "        text-align: right;\n",
       "    }\n",
       "</style>\n",
       "<table border=\"1\" class=\"dataframe\">\n",
       "  <thead>\n",
       "    <tr style=\"text-align: right;\">\n",
       "      <th></th>\n",
       "      <th>iso_code</th>\n",
       "      <th>location</th>\n",
       "      <th>date</th>\n",
       "      <th>total_cases</th>\n",
       "      <th>total_deaths</th>\n",
       "      <th>stringency_index</th>\n",
       "      <th>population</th>\n",
       "      <th>gdp_per_capita</th>\n",
       "      <th>human_development_index</th>\n",
       "      <th>Unnamed: 9</th>\n",
       "      <th>Unnamed: 10</th>\n",
       "      <th>Unnamed: 11</th>\n",
       "      <th>Unnamed: 12</th>\n",
       "      <th>Unnamed: 13</th>\n",
       "    </tr>\n",
       "  </thead>\n",
       "  <tbody>\n",
       "    <tr>\n",
       "      <th>0</th>\n",
       "      <td>AFG</td>\n",
       "      <td>Afghanistan</td>\n",
       "      <td>2019-12-31</td>\n",
       "      <td>0.0</td>\n",
       "      <td>0.0</td>\n",
       "      <td>0.0</td>\n",
       "      <td>38928341</td>\n",
       "      <td>1803.987</td>\n",
       "      <td>0.498</td>\n",
       "      <td>#NUM!</td>\n",
       "      <td>#NUM!</td>\n",
       "      <td>#NUM!</td>\n",
       "      <td>17.477233</td>\n",
       "      <td>7.497754494</td>\n",
       "    </tr>\n",
       "    <tr>\n",
       "      <th>1</th>\n",
       "      <td>AFG</td>\n",
       "      <td>Afghanistan</td>\n",
       "      <td>2020-01-01</td>\n",
       "      <td>0.0</td>\n",
       "      <td>0.0</td>\n",
       "      <td>0.0</td>\n",
       "      <td>38928341</td>\n",
       "      <td>1803.987</td>\n",
       "      <td>0.498</td>\n",
       "      <td>#NUM!</td>\n",
       "      <td>#NUM!</td>\n",
       "      <td>#NUM!</td>\n",
       "      <td>17.477233</td>\n",
       "      <td>7.497754494</td>\n",
       "    </tr>\n",
       "  </tbody>\n",
       "</table>\n",
       "</div>"
      ],
      "text/plain": [
       "  iso_code     location        date  total_cases  total_deaths  \\\n",
       "0      AFG  Afghanistan  2019-12-31          0.0           0.0   \n",
       "1      AFG  Afghanistan  2020-01-01          0.0           0.0   \n",
       "\n",
       "   stringency_index  population  gdp_per_capita  human_development_index  \\\n",
       "0               0.0    38928341        1803.987                    0.498   \n",
       "1               0.0    38928341        1803.987                    0.498   \n",
       "\n",
       "  Unnamed: 9 Unnamed: 10 Unnamed: 11  Unnamed: 12  Unnamed: 13  \n",
       "0      #NUM!       #NUM!       #NUM!    17.477233  7.497754494  \n",
       "1      #NUM!       #NUM!       #NUM!    17.477233  7.497754494  "
      ]
     },
     "execution_count": 3,
     "metadata": {},
     "output_type": "execute_result"
    }
   ],
   "source": [
    "df.head(2)"
   ]
  },
  {
   "cell_type": "code",
   "execution_count": 4,
   "id": "cfd29ca1",
   "metadata": {
    "execution": {
     "iopub.execute_input": "2022-09-10T12:37:27.768552Z",
     "iopub.status.busy": "2022-09-10T12:37:27.767808Z",
     "iopub.status.idle": "2022-09-10T12:37:27.784806Z",
     "shell.execute_reply": "2022-09-10T12:37:27.783896Z"
    },
    "papermill": {
     "duration": 0.02989,
     "end_time": "2022-09-10T12:37:27.787308",
     "exception": false,
     "start_time": "2022-09-10T12:37:27.757418",
     "status": "completed"
    },
    "tags": []
   },
   "outputs": [],
   "source": [
    "# let's delete unwanted \n",
    "UnwantedColumns = df.iloc[:, 9:].columns\n",
    "df = df.drop(columns= UnwantedColumns)"
   ]
  },
  {
   "cell_type": "code",
   "execution_count": 5,
   "id": "906db8df",
   "metadata": {
    "execution": {
     "iopub.execute_input": "2022-09-10T12:37:27.806701Z",
     "iopub.status.busy": "2022-09-10T12:37:27.805937Z",
     "iopub.status.idle": "2022-09-10T12:37:27.826806Z",
     "shell.execute_reply": "2022-09-10T12:37:27.825571Z"
    },
    "papermill": {
     "duration": 0.034049,
     "end_time": "2022-09-10T12:37:27.830037",
     "exception": false,
     "start_time": "2022-09-10T12:37:27.795988",
     "status": "completed"
    },
    "tags": []
   },
   "outputs": [],
   "source": [
    "# Let's convert date from string to date type\n",
    "df['date'] = pd.to_datetime(df['date'])"
   ]
  },
  {
   "cell_type": "code",
   "execution_count": 6,
   "id": "6adfad0d",
   "metadata": {
    "execution": {
     "iopub.execute_input": "2022-09-10T12:37:27.849013Z",
     "iopub.status.busy": "2022-09-10T12:37:27.848641Z",
     "iopub.status.idle": "2022-09-10T12:37:27.864466Z",
     "shell.execute_reply": "2022-09-10T12:37:27.863173Z"
    },
    "papermill": {
     "duration": 0.028317,
     "end_time": "2022-09-10T12:37:27.867123",
     "exception": false,
     "start_time": "2022-09-10T12:37:27.838806",
     "status": "completed"
    },
    "tags": []
   },
   "outputs": [
    {
     "data": {
      "text/plain": [
       "iso_code                       0\n",
       "location                       0\n",
       "date                           0\n",
       "total_cases                 3094\n",
       "total_deaths               11190\n",
       "stringency_index            7126\n",
       "population                     0\n",
       "gdp_per_capita              5712\n",
       "human_development_index     6202\n",
       "dtype: int64"
      ]
     },
     "execution_count": 6,
     "metadata": {},
     "output_type": "execute_result"
    }
   ],
   "source": [
    "# check for null vlaues\n",
    "df.isnull().sum()"
   ]
  },
  {
   "cell_type": "markdown",
   "id": "c00da673",
   "metadata": {
    "papermill": {
     "duration": 0.008475,
     "end_time": "2022-09-10T12:37:27.884464",
     "exception": false,
     "start_time": "2022-09-10T12:37:27.875989",
     "status": "completed"
    },
    "tags": []
   },
   "source": [
    "We note the the number of row that contain null data is big, so we can't remove these rows, and also these value will not effect on our analysis as I will show you, So let's go to the next step."
   ]
  },
  {
   "cell_type": "code",
   "execution_count": 7,
   "id": "ba16130c",
   "metadata": {
    "execution": {
     "iopub.execute_input": "2022-09-10T12:37:27.905913Z",
     "iopub.status.busy": "2022-09-10T12:37:27.905145Z",
     "iopub.status.idle": "2022-09-10T12:37:27.935705Z",
     "shell.execute_reply": "2022-09-10T12:37:27.934192Z"
    },
    "papermill": {
     "duration": 0.044154,
     "end_time": "2022-09-10T12:37:27.938477",
     "exception": false,
     "start_time": "2022-09-10T12:37:27.894323",
     "status": "completed"
    },
    "tags": []
   },
   "outputs": [
    {
     "data": {
      "text/plain": [
       "0"
      ]
     },
     "execution_count": 7,
     "metadata": {},
     "output_type": "execute_result"
    }
   ],
   "source": [
    "# Check for duplicates values\n",
    "df.duplicated().sum()\n"
   ]
  },
  {
   "cell_type": "markdown",
   "id": "3548e395",
   "metadata": {
    "papermill": {
     "duration": 0.008636,
     "end_time": "2022-09-10T12:37:27.956085",
     "exception": false,
     "start_time": "2022-09-10T12:37:27.947449",
     "status": "completed"
    },
    "tags": []
   },
   "source": [
    "We have no duplicates in our data."
   ]
  },
  {
   "cell_type": "markdown",
   "id": "2cbffae6",
   "metadata": {
    "papermill": {
     "duration": 0.008484,
     "end_time": "2022-09-10T12:37:27.973514",
     "exception": false,
     "start_time": "2022-09-10T12:37:27.965030",
     "status": "completed"
    },
    "tags": []
   },
   "source": [
    "## Exploratory Data Analysis\n",
    "Now, we will move to the analysis phase, we will try to ask some questions and find answers to them, and by that we can analysis our data and we can make a strong conclusion about our findings."
   ]
  },
  {
   "cell_type": "code",
   "execution_count": 8,
   "id": "f04a1b75",
   "metadata": {
    "execution": {
     "iopub.execute_input": "2022-09-10T12:37:27.993408Z",
     "iopub.status.busy": "2022-09-10T12:37:27.992941Z",
     "iopub.status.idle": "2022-09-10T12:37:28.010417Z",
     "shell.execute_reply": "2022-09-10T12:37:28.009006Z"
    },
    "papermill": {
     "duration": 0.030484,
     "end_time": "2022-09-10T12:37:28.012930",
     "exception": false,
     "start_time": "2022-09-10T12:37:27.982446",
     "status": "completed"
    },
    "tags": []
   },
   "outputs": [
    {
     "data": {
      "text/html": [
       "<div>\n",
       "<style scoped>\n",
       "    .dataframe tbody tr th:only-of-type {\n",
       "        vertical-align: middle;\n",
       "    }\n",
       "\n",
       "    .dataframe tbody tr th {\n",
       "        vertical-align: top;\n",
       "    }\n",
       "\n",
       "    .dataframe thead th {\n",
       "        text-align: right;\n",
       "    }\n",
       "</style>\n",
       "<table border=\"1\" class=\"dataframe\">\n",
       "  <thead>\n",
       "    <tr style=\"text-align: right;\">\n",
       "      <th></th>\n",
       "      <th>iso_code</th>\n",
       "      <th>location</th>\n",
       "      <th>date</th>\n",
       "      <th>total_cases</th>\n",
       "      <th>total_deaths</th>\n",
       "      <th>stringency_index</th>\n",
       "      <th>population</th>\n",
       "      <th>gdp_per_capita</th>\n",
       "      <th>human_development_index</th>\n",
       "    </tr>\n",
       "  </thead>\n",
       "  <tbody>\n",
       "    <tr>\n",
       "      <th>0</th>\n",
       "      <td>AFG</td>\n",
       "      <td>Afghanistan</td>\n",
       "      <td>2019-12-31</td>\n",
       "      <td>0.0</td>\n",
       "      <td>0.0</td>\n",
       "      <td>0.0</td>\n",
       "      <td>38928341</td>\n",
       "      <td>1803.987</td>\n",
       "      <td>0.498</td>\n",
       "    </tr>\n",
       "  </tbody>\n",
       "</table>\n",
       "</div>"
      ],
      "text/plain": [
       "  iso_code     location       date  total_cases  total_deaths  \\\n",
       "0      AFG  Afghanistan 2019-12-31          0.0           0.0   \n",
       "\n",
       "   stringency_index  population  gdp_per_capita  human_development_index  \n",
       "0               0.0    38928341        1803.987                    0.498  "
      ]
     },
     "execution_count": 8,
     "metadata": {},
     "output_type": "execute_result"
    }
   ],
   "source": [
    "df.head(1)"
   ]
  },
  {
   "cell_type": "markdown",
   "id": "6072606c",
   "metadata": {
    "papermill": {
     "duration": 0.00876,
     "end_time": "2022-09-10T12:37:28.030841",
     "exception": false,
     "start_time": "2022-09-10T12:37:28.022081",
     "status": "completed"
    },
    "tags": []
   },
   "source": [
    "### Research Question 1: Which countries had the highest population ?"
   ]
  },
  {
   "cell_type": "code",
   "execution_count": 9,
   "id": "3e7fbfd1",
   "metadata": {
    "execution": {
     "iopub.execute_input": "2022-09-10T12:37:28.051219Z",
     "iopub.status.busy": "2022-09-10T12:37:28.050707Z",
     "iopub.status.idle": "2022-09-10T12:37:28.067286Z",
     "shell.execute_reply": "2022-09-10T12:37:28.066372Z"
    },
    "papermill": {
     "duration": 0.02967,
     "end_time": "2022-09-10T12:37:28.069640",
     "exception": false,
     "start_time": "2022-09-10T12:37:28.039970",
     "status": "completed"
    },
    "tags": []
   },
   "outputs": [],
   "source": [
    "# Select the countries with the highest number of population\n",
    "Highest_Pop = df.groupby(['location'])['population'].mean().nlargest(6)"
   ]
  },
  {
   "cell_type": "code",
   "execution_count": 10,
   "id": "8860cacb",
   "metadata": {
    "execution": {
     "iopub.execute_input": "2022-09-10T12:37:28.090219Z",
     "iopub.status.busy": "2022-09-10T12:37:28.089152Z",
     "iopub.status.idle": "2022-09-10T12:37:28.327529Z",
     "shell.execute_reply": "2022-09-10T12:37:28.326418Z"
    },
    "papermill": {
     "duration": 0.251015,
     "end_time": "2022-09-10T12:37:28.329904",
     "exception": false,
     "start_time": "2022-09-10T12:37:28.078889",
     "status": "completed"
    },
    "tags": []
   },
   "outputs": [
    {
     "data": {
      "image/png": "[encoded data removed]",
      "text/plain": [
       "<Figure size 432x288 with 1 Axes>"
      ]
     },
     "metadata": {
      "needs_background": "light"
     },
     "output_type": "display_data"
    }
   ],
   "source": [
    "# Data visualization\n",
    "plt.bar(x=Highest_Pop.index, height= (Highest_Pop.values/1000000))\n",
    "plt.xticks(Highest_Pop.index, rotation=90)\n",
    "plt.xlabel('Country')\n",
    "plt.ylabel('Population in millions')\n",
    "plt.title('Top 6 Countries in Populations')\n",
    "plt.show()"
   ]
  },
  {
   "cell_type": "markdown",
   "id": "8063f4e0",
   "metadata": {
    "papermill": {
     "duration": 0.008847,
     "end_time": "2022-09-10T12:37:28.348483",
     "exception": false,
     "start_time": "2022-09-10T12:37:28.339636",
     "status": "completed"
    },
    "tags": []
   },
   "source": [
    "### Research Question 2: Which countries had the highest number of total cases at that period ? "
   ]
  },
  {
   "cell_type": "code",
   "execution_count": 11,
   "id": "67a90f61",
   "metadata": {
    "execution": {
     "iopub.execute_input": "2022-09-10T12:37:28.368823Z",
     "iopub.status.busy": "2022-09-10T12:37:28.368395Z",
     "iopub.status.idle": "2022-09-10T12:37:28.384113Z",
     "shell.execute_reply": "2022-09-10T12:37:28.382742Z"
    },
    "papermill": {
     "duration": 0.028656,
     "end_time": "2022-09-10T12:37:28.386458",
     "exception": false,
     "start_time": "2022-09-10T12:37:28.357802",
     "status": "completed"
    },
    "tags": []
   },
   "outputs": [
    {
     "data": {
      "text/html": [
       "<div>\n",
       "<style scoped>\n",
       "    .dataframe tbody tr th:only-of-type {\n",
       "        vertical-align: middle;\n",
       "    }\n",
       "\n",
       "    .dataframe tbody tr th {\n",
       "        vertical-align: top;\n",
       "    }\n",
       "\n",
       "    .dataframe thead th {\n",
       "        text-align: right;\n",
       "    }\n",
       "</style>\n",
       "<table border=\"1\" class=\"dataframe\">\n",
       "  <thead>\n",
       "    <tr style=\"text-align: right;\">\n",
       "      <th></th>\n",
       "      <th>iso_code</th>\n",
       "      <th>location</th>\n",
       "      <th>date</th>\n",
       "      <th>total_cases</th>\n",
       "      <th>total_deaths</th>\n",
       "      <th>stringency_index</th>\n",
       "      <th>population</th>\n",
       "      <th>gdp_per_capita</th>\n",
       "      <th>human_development_index</th>\n",
       "    </tr>\n",
       "  </thead>\n",
       "  <tbody>\n",
       "    <tr>\n",
       "      <th>0</th>\n",
       "      <td>AFG</td>\n",
       "      <td>Afghanistan</td>\n",
       "      <td>2019-12-31</td>\n",
       "      <td>0.0</td>\n",
       "      <td>0.0</td>\n",
       "      <td>0.0</td>\n",
       "      <td>38928341</td>\n",
       "      <td>1803.987</td>\n",
       "      <td>0.498</td>\n",
       "    </tr>\n",
       "  </tbody>\n",
       "</table>\n",
       "</div>"
      ],
      "text/plain": [
       "  iso_code     location       date  total_cases  total_deaths  \\\n",
       "0      AFG  Afghanistan 2019-12-31          0.0           0.0   \n",
       "\n",
       "   stringency_index  population  gdp_per_capita  human_development_index  \n",
       "0               0.0    38928341        1803.987                    0.498  "
      ]
     },
     "execution_count": 11,
     "metadata": {},
     "output_type": "execute_result"
    }
   ],
   "source": [
    "df.head(1)"
   ]
  },
  {
   "cell_type": "code",
   "execution_count": 12,
   "id": "29c6d73a",
   "metadata": {
    "execution": {
     "iopub.execute_input": "2022-09-10T12:37:28.407723Z",
     "iopub.status.busy": "2022-09-10T12:37:28.406968Z",
     "iopub.status.idle": "2022-09-10T12:37:28.420228Z",
     "shell.execute_reply": "2022-09-10T12:37:28.419343Z"
    },
    "papermill": {
     "duration": 0.026759,
     "end_time": "2022-09-10T12:37:28.422752",
     "exception": false,
     "start_time": "2022-09-10T12:37:28.395993",
     "status": "completed"
    },
    "tags": []
   },
   "outputs": [],
   "source": [
    "# Select the countries with the highest number of infected cases\n",
    "Total_cases = df.groupby(['location'])['total_cases'].sum().nlargest(6)\n",
    "labels1 = Total_cases.index\n",
    "data1 = Total_cases.values"
   ]
  },
  {
   "cell_type": "code",
   "execution_count": 13,
   "id": "967a5291",
   "metadata": {
    "execution": {
     "iopub.execute_input": "2022-09-10T12:37:28.444931Z",
     "iopub.status.busy": "2022-09-10T12:37:28.444109Z",
     "iopub.status.idle": "2022-09-10T12:37:28.650057Z",
     "shell.execute_reply": "2022-09-10T12:37:28.648794Z"
    },
    "papermill": {
     "duration": 0.22003,
     "end_time": "2022-09-10T12:37:28.652630",
     "exception": false,
     "start_time": "2022-09-10T12:37:28.432600",
     "status": "completed"
    },
    "tags": []
   },
   "outputs": [
    {
     "data": {
      "image/png": "[encoded data removed]",
      "text/plain": [
       "<Figure size 432x288 with 1 Axes>"
      ]
     },
     "metadata": {
      "needs_background": "light"
     },
     "output_type": "display_data"
    }
   ],
   "source": [
    "# Data visualization\n",
    "plt.bar(x=labels1, height= data1/6000000,  color = 'orange')\n",
    "plt.xticks(labels1, rotation=90)\n",
    "plt.xlabel('Country')\n",
    "plt.ylabel('Number of cases in millions')\n",
    "plt.title('Top 6 Countries in Cases', color = 'green')\n",
    "plt.show()"
   ]
  },
  {
   "cell_type": "markdown",
   "id": "dc880380",
   "metadata": {
    "papermill": {
     "duration": 0.009513,
     "end_time": "2022-09-10T12:37:28.672224",
     "exception": false,
     "start_time": "2022-09-10T12:37:28.662711",
     "status": "completed"
    },
    "tags": []
   },
   "source": [
    "### Research Question 3: Which countries had the highest number of death at that period ? "
   ]
  },
  {
   "cell_type": "code",
   "execution_count": 14,
   "id": "dec13ffd",
   "metadata": {
    "execution": {
     "iopub.execute_input": "2022-09-10T12:37:28.694832Z",
     "iopub.status.busy": "2022-09-10T12:37:28.694070Z",
     "iopub.status.idle": "2022-09-10T12:37:28.708113Z",
     "shell.execute_reply": "2022-09-10T12:37:28.706852Z"
    },
    "papermill": {
     "duration": 0.029646,
     "end_time": "2022-09-10T12:37:28.711699",
     "exception": false,
     "start_time": "2022-09-10T12:37:28.682053",
     "status": "completed"
    },
    "tags": []
   },
   "outputs": [],
   "source": [
    "# Select the countries with the highest number of deaths\n",
    "Total_deaths = df.groupby(['location'])['total_deaths'].sum().nlargest(6)\n",
    "labels2 = Total_deaths.index\n",
    "data2 = Total_deaths.values"
   ]
  },
  {
   "cell_type": "code",
   "execution_count": 15,
   "id": "a487a8ea",
   "metadata": {
    "execution": {
     "iopub.execute_input": "2022-09-10T12:37:28.738615Z",
     "iopub.status.busy": "2022-09-10T12:37:28.737954Z",
     "iopub.status.idle": "2022-09-10T12:37:28.939418Z",
     "shell.execute_reply": "2022-09-10T12:37:28.938331Z"
    },
    "papermill": {
     "duration": 0.215759,
     "end_time": "2022-09-10T12:37:28.941984",
     "exception": false,
     "start_time": "2022-09-10T12:37:28.726225",
     "status": "completed"
    },
    "tags": []
   },
   "outputs": [
    {
     "data": {
      "image/png": "[encoded data removed]",
      "text/plain": [
       "<Figure size 432x288 with 1 Axes>"
      ]
     },
     "metadata": {
      "needs_background": "light"
     },
     "output_type": "display_data"
    }
   ],
   "source": [
    "# Data visualization\n",
    "plt.bar(x=labels2, height= data2/600000,  color = 'black')\n",
    "plt.xticks(labels2, rotation = 90, color = 'blue')\n",
    "plt.xlabel('Country', color = 'red')\n",
    "plt.ylabel('Number of deaths in thousands', color = 'red')\n",
    "plt.title('Top 6 Countries in deaths', color = 'green')\n",
    "plt.show()"
   ]
  },
  {
   "cell_type": "markdown",
   "id": "ec255da8",
   "metadata": {
    "papermill": {
     "duration": 0.010438,
     "end_time": "2022-09-10T12:37:28.963211",
     "exception": false,
     "start_time": "2022-09-10T12:37:28.952773",
     "status": "completed"
    },
    "tags": []
   },
   "source": [
    "Let's have a look on total number of cases and total number of "
   ]
  },
  {
   "cell_type": "code",
   "execution_count": 16,
   "id": "74a55b02",
   "metadata": {
    "execution": {
     "iopub.execute_input": "2022-09-10T12:37:28.986357Z",
     "iopub.status.busy": "2022-09-10T12:37:28.985964Z",
     "iopub.status.idle": "2022-09-10T12:37:29.196456Z",
     "shell.execute_reply": "2022-09-10T12:37:29.195343Z"
    },
    "papermill": {
     "duration": 0.225,
     "end_time": "2022-09-10T12:37:29.198920",
     "exception": false,
     "start_time": "2022-09-10T12:37:28.973920",
     "status": "completed"
    },
    "tags": []
   },
   "outputs": [
    {
     "data": {
      "image/png": "[encoded data removed]",
      "text/plain": [
       "<Figure size 432x288 with 1 Axes>"
      ]
     },
     "metadata": {
      "needs_background": "light"
     },
     "output_type": "display_data"
    }
   ],
   "source": [
    "plt.bar(labels1, data1/6000000,  color = 'orange', width=0.3)\n",
    "plt.bar(labels2, data2/600000,  color = 'black', width=0.3)\n",
    "plt.xticks(rotation=90)\n",
    "plt.show()"
   ]
  },
  {
   "cell_type": "markdown",
   "id": "fb04fc76",
   "metadata": {
    "papermill": {
     "duration": 0.010702,
     "end_time": "2022-09-10T12:37:29.220468",
     "exception": false,
     "start_time": "2022-09-10T12:37:29.209766",
     "status": "completed"
    },
    "tags": []
   },
   "source": []
  },
  {
   "cell_type": "markdown",
   "id": "c1443944",
   "metadata": {
    "papermill": {
     "duration": 0.010449,
     "end_time": "2022-09-10T12:37:29.242007",
     "exception": false,
     "start_time": "2022-09-10T12:37:29.231558",
     "status": "completed"
    },
    "tags": []
   },
   "source": [
    "### Research Question 4: What the effect of the Covid_19 on economy ?"
   ]
  },
  {
   "cell_type": "markdown",
   "id": "6df2768a",
   "metadata": {
    "papermill": {
     "duration": 0.01035,
     "end_time": "2022-09-10T12:37:29.263188",
     "exception": false,
     "start_time": "2022-09-10T12:37:29.252838",
     "status": "completed"
    },
    "tags": []
   },
   "source": [
    "We can measure this effect by tracking the gdp_per_capita at the beginning of the disese and after that"
   ]
  },
  {
   "cell_type": "code",
   "execution_count": 17,
   "id": "074d02dc",
   "metadata": {
    "execution": {
     "iopub.execute_input": "2022-09-10T12:37:29.287244Z",
     "iopub.status.busy": "2022-09-10T12:37:29.286513Z",
     "iopub.status.idle": "2022-09-10T12:37:29.522357Z",
     "shell.execute_reply": "2022-09-10T12:37:29.521071Z"
    },
    "papermill": {
     "duration": 0.250982,
     "end_time": "2022-09-10T12:37:29.525044",
     "exception": false,
     "start_time": "2022-09-10T12:37:29.274062",
     "status": "completed"
    },
    "tags": []
   },
   "outputs": [
    {
     "data": {
      "image/png": "[encoded data removed]",
      "text/plain": [
       "<Figure size 432x288 with 1 Axes>"
      ]
     },
     "metadata": {
      "needs_background": "light"
     },
     "output_type": "display_data"
    }
   ],
   "source": [
    "plt.hist(df['gdp_per_capita'], color='pink');"
   ]
  },
  {
   "cell_type": "markdown",
   "id": "dcbaa17e",
   "metadata": {
    "papermill": {
     "duration": 0.01018,
     "end_time": "2022-09-10T12:37:29.546103",
     "exception": false,
     "start_time": "2022-09-10T12:37:29.535923",
     "status": "completed"
    },
    "tags": []
   },
   "source": [
    "From the histogram distribution we notice that the gdp_per_capita starts with high values and then dcreases and this means that the economy has been efeected very negatively"
   ]
  },
  {
   "cell_type": "markdown",
   "id": "a9b28427",
   "metadata": {
    "papermill": {
     "duration": 0.01012,
     "end_time": "2022-09-10T12:37:29.566839",
     "exception": false,
     "start_time": "2022-09-10T12:37:29.556719",
     "status": "completed"
    },
    "tags": []
   },
   "source": [
    "Another Analysis"
   ]
  },
  {
   "cell_type": "code",
   "execution_count": 18,
   "id": "ab30a2ca",
   "metadata": {
    "execution": {
     "iopub.execute_input": "2022-09-10T12:37:29.590720Z",
     "iopub.status.busy": "2022-09-10T12:37:29.589631Z",
     "iopub.status.idle": "2022-09-10T12:37:29.601697Z",
     "shell.execute_reply": "2022-09-10T12:37:29.600746Z"
    },
    "papermill": {
     "duration": 0.026754,
     "end_time": "2022-09-10T12:37:29.604138",
     "exception": false,
     "start_time": "2022-09-10T12:37:29.577384",
     "status": "completed"
    },
    "tags": []
   },
   "outputs": [],
   "source": [
    "# At first let's extract the years out of the date column\n",
    "df['year'] = df['date'].dt.year"
   ]
  },
  {
   "cell_type": "code",
   "execution_count": 19,
   "id": "14470074",
   "metadata": {
    "execution": {
     "iopub.execute_input": "2022-09-10T12:37:29.627894Z",
     "iopub.status.busy": "2022-09-10T12:37:29.626899Z",
     "iopub.status.idle": "2022-09-10T12:37:29.822806Z",
     "shell.execute_reply": "2022-09-10T12:37:29.821463Z"
    },
    "papermill": {
     "duration": 0.210565,
     "end_time": "2022-09-10T12:37:29.825384",
     "exception": false,
     "start_time": "2022-09-10T12:37:29.614819",
     "status": "completed"
    },
    "tags": []
   },
   "outputs": [
    {
     "data": {
      "image/png": "[encoded data removed]",
      "text/plain": [
       "<Figure size 432x288 with 1 Axes>"
      ]
     },
     "metadata": {
      "needs_background": "light"
     },
     "output_type": "display_data"
    }
   ],
   "source": [
    "df.groupby(['year'])['gdp_per_capita'].mean().plot(kind='bar', color='red')\n",
    "plt.title('gdp_per_capita at every year')\n",
    "plt.ylabel('gdp_per_capita average value')\n",
    "plt.show();"
   ]
  },
  {
   "cell_type": "markdown",
   "id": "b18ed19b",
   "metadata": {
    "papermill": {
     "duration": 0.010479,
     "end_time": "2022-09-10T12:37:29.846911",
     "exception": false,
     "start_time": "2022-09-10T12:37:29.836432",
     "status": "completed"
    },
    "tags": []
   },
   "source": [
    "We can also notice that gdp_per_capita decrease significantly in the period from 2019 to 2020"
   ]
  },
  {
   "cell_type": "markdown",
   "id": "06c92fa9",
   "metadata": {
    "papermill": {
     "duration": 0.010461,
     "end_time": "2022-09-10T12:37:29.868294",
     "exception": false,
     "start_time": "2022-09-10T12:37:29.857833",
     "status": "completed"
    },
    "tags": []
   },
   "source": [
    "### Research Question 5: Which countries did perfom well in the stringency index during the outbreak of covid-19 ?"
   ]
  },
  {
   "cell_type": "markdown",
   "id": "e02b26bb",
   "metadata": {
    "papermill": {
     "duration": 0.010637,
     "end_time": "2022-09-10T12:37:29.889836",
     "exception": false,
     "start_time": "2022-09-10T12:37:29.879199",
     "status": "completed"
    },
    "tags": []
   },
   "source": [
    "Stringency index is a composite measure of response indicators, including school closures, workplace closures, and travel bans. It shows how strictly countries are following these measures to control the spread of covid-19."
   ]
  },
  {
   "cell_type": "code",
   "execution_count": 20,
   "id": "b5bc9443",
   "metadata": {
    "execution": {
     "iopub.execute_input": "2022-09-10T12:37:29.913464Z",
     "iopub.status.busy": "2022-09-10T12:37:29.913073Z",
     "iopub.status.idle": "2022-09-10T12:37:29.924746Z",
     "shell.execute_reply": "2022-09-10T12:37:29.923936Z"
    },
    "papermill": {
     "duration": 0.026209,
     "end_time": "2022-09-10T12:37:29.927034",
     "exception": false,
     "start_time": "2022-09-10T12:37:29.900825",
     "status": "completed"
    },
    "tags": []
   },
   "outputs": [],
   "source": [
    "Stringency_index= df.groupby(['location'])['stringency_index'].mean().nlargest(5)   "
   ]
  },
  {
   "cell_type": "code",
   "execution_count": 21,
   "id": "3718da3e",
   "metadata": {
    "execution": {
     "iopub.execute_input": "2022-09-10T12:37:29.951410Z",
     "iopub.status.busy": "2022-09-10T12:37:29.950131Z",
     "iopub.status.idle": "2022-09-10T12:37:30.110245Z",
     "shell.execute_reply": "2022-09-10T12:37:30.108709Z"
    },
    "papermill": {
     "duration": 0.177906,
     "end_time": "2022-09-10T12:37:30.115901",
     "exception": false,
     "start_time": "2022-09-10T12:37:29.937995",
     "status": "completed"
    },
    "tags": []
   },
   "outputs": [
    {
     "data": {
      "image/png": "[encoded data removed]",
      "text/plain": [
       "<Figure size 432x288 with 1 Axes>"
      ]
     },
     "metadata": {},
     "output_type": "display_data"
    }
   ],
   "source": [
    "# Data visualization using matlibplot and seaborn libraries\n",
    "# define Seaborn color palette to use\n",
    "palette_color = sns.color_palette('deep')\n",
    "  \n",
    "# plotting data on chart\n",
    "plt.pie(Stringency_index.values, labels = Stringency_index.index,\n",
    "        explode=[0.1, 0, 0, 0, 0] ,colors = palette_color,autopct ='%.1f%%', shadow = True)\n",
    "plt.title(\"Top rated free_kick players\")        \n",
    "#  displaying chart\n",
    "plt.show()"
   ]
  },
  {
   "cell_type": "markdown",
   "id": "786da9a1",
   "metadata": {
    "papermill": {
     "duration": 0.028646,
     "end_time": "2022-09-10T12:37:30.174893",
     "exception": false,
     "start_time": "2022-09-10T12:37:30.146247",
     "status": "completed"
    },
    "tags": []
   },
   "source": [
    "<a id='conclusions'></a>\n",
    "## Conclusions\n",
    "\n",
    "At first, We have loaded libraries required.\n",
    "Then, we performed data cleaning (removed duplicates, removed rows with Nan values, modified data types). \n",
    "Finally, Pedrformed our data analysis by answering some questions :\n",
    "\n",
    "Which countries did perfom well in the stringency index during the outbreak of covid-19 ?\n",
    "\n",
    "What the effect of the Covid_19 on economy ?\n",
    "\n",
    "Which countries had the highest number of death at that period ?\n",
    "\n",
    "Which countries had the highest number of total cases at that period ?\n",
    "\n",
    "Which countries had the highest population ?"
   ]
  },
  {
   "cell_type": "code",
   "execution_count": null,
   "id": "6968c73d",
   "metadata": {
    "papermill": {
     "duration": 0.011597,
     "end_time": "2022-09-10T12:37:30.207536",
     "exception": false,
     "start_time": "2022-09-10T12:37:30.195939",
     "status": "completed"
    },
    "tags": []
   },
   "outputs": [],
   "source": []
  }
 ],
 "metadata": {
  "kernelspec": {
   "display_name": "Python 3",
   "language": "python",
   "name": "python3"
  },
  "language_info": {
   "codemirror_mode": {
    "name": "ipython",
    "version": 3
   },
   "file_extension": ".py",
   "mimetype": "text/x-python",
   "name": "python",
   "nbconvert_exporter": "python",
   "pygments_lexer": "ipython3",
   "version": "3.7.12"
  },
  "papermill": {
   "default_parameters": {},
   "duration": 15.33747,
   "end_time": "2022-09-10T12:37:31.345369",
   "environment_variables": {},
   "exception": null,
   "input_path": "__notebook__.ipynb",
   "output_path": "__notebook__.ipynb",
   "parameters": {},
   "start_time": "2022-09-10T12:37:16.007899",
   "version": "2.3.4"
  }
 },
 "nbformat": 4,
 "nbformat_minor": 5
}
